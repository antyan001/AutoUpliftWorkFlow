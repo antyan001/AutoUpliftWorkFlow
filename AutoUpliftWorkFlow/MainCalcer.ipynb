{
 "cells": [
  {
   "cell_type": "code",
   "execution_count": 1,
   "metadata": {},
   "outputs": [
    {
     "name": "stdout",
     "output_type": "stream",
     "text": [
      "--2021-10-17 15:42:40--  https://downloader.disk.yandex.ru/zip/7dcf6de57648f7d589bfeb8c7ff25046cd2967d43994bce24f31a8e44575fab8/616c44e8/WUZOandzb1QrMnYrTVROTW5IakZxaU01N3R4T2QyU0xkbWhrVDV3NVlQOTBwS29ZeG9mczJaSlVhdXJrNERHZXEvSjZicG1SeU9Kb25UM1ZvWG5EYWc9PTo=?uid=0&filename=%D0%A4%D0%B8%D0%BD%D0%B0%D0%BB%D1%8C%D0%BD%D1%8B%D0%B9%20%D0%BF%D1%80%D0%BE%D0%B5%D0%BA%D1%82.zip&disposition=attachment&hash=YFNjwsoT%2B2v%2BMTNMnHjFqiM57txOd2SLdmhkT5w5YP90pKoYxofs2ZJUaurk4DGeq/J6bpmRyOJonT3VoXnDag%3D%3D%3A&limit=0&owner_uid=125175473&tknv=v2\n",
      "Resolving downloader.disk.yandex.ru (downloader.disk.yandex.ru)... 77.88.21.127, 2a02:6b8::2:127\n",
      "Connecting to downloader.disk.yandex.ru (downloader.disk.yandex.ru)|77.88.21.127|:443... connected.\n",
      "HTTP request sent, awaiting response... 302 Moved Temporarily\n",
      "Location: https://downloader-default23e.disk.yandex.net/rzip/7dcf6de57648f7d589bfeb8c7ff25046cd2967d43994bce24f31a8e44575fab8/616c44e8/WUZOandzb1QrMnYrTVROTW5IakZxaU01N3R4T2QyU0xkbWhrVDV3NVlQOTBwS29ZeG9mczJaSlVhdXJrNERHZXEvSjZicG1SeU9Kb25UM1ZvWG5EYWc9PTo=?uid=0&filename=%D0%A4%D0%B8%D0%BD%D0%B0%D0%BB%D1%8C%D0%BD%D1%8B%D0%B9%20%D0%BF%D1%80%D0%BE%D0%B5%D0%BA%D1%82.zip&disposition=attachment&hash=YFNjwsoT%2B2v%2BMTNMnHjFqiM57txOd2SLdmhkT5w5YP90pKoYxofs2ZJUaurk4DGeq/J6bpmRyOJonT3VoXnDag%3D%3D%3A&limit=0&owner_uid=125175473&tknv=v2&rtoken=6HUnI7x7XD5F&force_default=no&ycrid=na-0b606d00444de583e39129c2c169573f-downloader18f [following]\n",
      "--2021-10-17 15:42:40--  https://downloader-default23e.disk.yandex.net/rzip/7dcf6de57648f7d589bfeb8c7ff25046cd2967d43994bce24f31a8e44575fab8/616c44e8/WUZOandzb1QrMnYrTVROTW5IakZxaU01N3R4T2QyU0xkbWhrVDV3NVlQOTBwS29ZeG9mczJaSlVhdXJrNERHZXEvSjZicG1SeU9Kb25UM1ZvWG5EYWc9PTo=?uid=0&filename=%D0%A4%D0%B8%D0%BD%D0%B0%D0%BB%D1%8C%D0%BD%D1%8B%D0%B9%20%D0%BF%D1%80%D0%BE%D0%B5%D0%BA%D1%82.zip&disposition=attachment&hash=YFNjwsoT%2B2v%2BMTNMnHjFqiM57txOd2SLdmhkT5w5YP90pKoYxofs2ZJUaurk4DGeq/J6bpmRyOJonT3VoXnDag%3D%3D%3A&limit=0&owner_uid=125175473&tknv=v2&rtoken=6HUnI7x7XD5F&force_default=no&ycrid=na-0b606d00444de583e39129c2c169573f-downloader18f\n",
      "Resolving downloader-default23e.disk.yandex.net (downloader-default23e.disk.yandex.net)... 141.8.157.123, 2a02:6b8:c04:228:0:564:8ba0:32f9\n",
      "Connecting to downloader-default23e.disk.yandex.net (downloader-default23e.disk.yandex.net)|141.8.157.123|:443... connected.\n",
      "HTTP request sent, awaiting response... 200 OK\n",
      "Length: unspecified [application/zip]\n",
      "Saving to: ‘./csv/L5.zip’\n",
      "\n",
      "./csv/L5.zip            [               <=>  ] 588.33M  3.77MB/s    in 2m 36s  \n",
      "\n",
      "2021-10-17 15:45:16 (3.77 MB/s) - ‘./csv/L5.zip’ saved [616912363]\n",
      "\n",
      "Archive:  L5.zip\n",
      "  inflating: campaigns.csv           \n",
      "  inflating: customers.csv           \n",
      "  inflating: receipts.parquet        \n"
     ]
    }
   ],
   "source": [
    "!wget $(yadisk-direct https://disk.yandex.ru/d/2LaYWIY5jb_Mcw) -O ./csv/L5.zip && cd ./csv/; unzip -j L5.zip "
   ]
  },
  {
   "cell_type": "code",
   "execution_count": 27,
   "metadata": {},
   "outputs": [],
   "source": [
    "import os\n",
    "import sys\n",
    "sys.path.append('./uplift-campaign/')\n",
    "\n",
    "import pandas as pd\n",
    "import numpy as np\n",
    "import sidetable\n",
    "import dask.dataframe as dd\n",
    "import pickle\n",
    "import json\n",
    "import sklearn.base as skbase\n",
    "import sklearn.pipeline as skpipe\n",
    "import datetime\n",
    "\n",
    "import matplotlib.pyplot as plt\n",
    "import seaborn as sns\n",
    "color = sns.color_palette()\n",
    "sns.set_style(style='white') \n",
    "%matplotlib inline"
   ]
  },
  {
   "cell_type": "code",
   "execution_count": 2,
   "metadata": {},
   "outputs": [],
   "source": [
    "import upcampaign.datalib as datalib\n",
    "import upcampaign.datalib.connection as connection\n",
    "import upcampaign.datalib.features.compute as fcompute\n",
    "# import upcampaign.model_utils as mu"
   ]
  },
  {
   "cell_type": "code",
   "execution_count": 3,
   "metadata": {},
   "outputs": [],
   "source": [
    "import lightgbm as lgb\n",
    "import causalml.metrics as cmetrics\n",
    "import causalml.inference.meta.rlearner as rlearner\n",
    "\n",
    "from sklearn.model_selection import train_test_split"
   ]
  },
  {
   "cell_type": "code",
   "execution_count": null,
   "metadata": {},
   "outputs": [],
   "source": []
  },
  {
   "cell_type": "markdown",
   "metadata": {},
   "source": [
    "## Load'n'cook"
   ]
  },
  {
   "cell_type": "markdown",
   "metadata": {},
   "source": [
    "### engine"
   ]
  },
  {
   "cell_type": "code",
   "execution_count": 4,
   "metadata": {
    "ExecuteTime": {
     "end_time": "2021-05-10T03:01:20.532531Z",
     "start_time": "2021-05-10T03:01:20.289316Z"
    }
   },
   "outputs": [],
   "source": [
    "data_root_path = './csv/'\n",
    "\n",
    "receipts = dd.read_parquet(os.path.join(data_root_path, 'receipts.parquet'))\n",
    "campaigns = dd.read_csv(os.path.join(data_root_path, 'campaigns.csv'))\n",
    "client_profile = dd.read_csv(os.path.join(data_root_path, 'customers.csv'))"
   ]
  },
  {
   "cell_type": "code",
   "execution_count": 5,
   "metadata": {},
   "outputs": [],
   "source": [
    "engine = connection.Engine(tables={\n",
    "    'receipts': receipts,\n",
    "    'campaigns': campaigns,\n",
    "    'client_profile': client_profile\n",
    "})"
   ]
  },
  {
   "cell_type": "code",
   "execution_count": null,
   "metadata": {},
   "outputs": [],
   "source": []
  },
  {
   "cell_type": "markdown",
   "metadata": {},
   "source": [
    "## LOOKUP"
   ]
  },
  {
   "cell_type": "code",
   "execution_count": 27,
   "metadata": {},
   "outputs": [
    {
     "data": {
      "text/html": [
       "<div>\n",
       "<style scoped>\n",
       "    .dataframe tbody tr th:only-of-type {\n",
       "        vertical-align: middle;\n",
       "    }\n",
       "\n",
       "    .dataframe tbody tr th {\n",
       "        vertical-align: top;\n",
       "    }\n",
       "\n",
       "    .dataframe thead th {\n",
       "        text-align: right;\n",
       "    }\n",
       "</style>\n",
       "<table border=\"1\" class=\"dataframe\">\n",
       "  <thead>\n",
       "    <tr style=\"text-align: right;\">\n",
       "      <th></th>\n",
       "      <th>Unnamed: 0</th>\n",
       "      <th>customer_id</th>\n",
       "      <th>age</th>\n",
       "      <th>location</th>\n",
       "    </tr>\n",
       "  </thead>\n",
       "  <tbody>\n",
       "    <tr>\n",
       "      <th>0</th>\n",
       "      <td>0</td>\n",
       "      <td>0</td>\n",
       "      <td>56</td>\n",
       "      <td>Oxenfurt</td>\n",
       "    </tr>\n",
       "    <tr>\n",
       "      <th>1</th>\n",
       "      <td>1</td>\n",
       "      <td>1</td>\n",
       "      <td>53</td>\n",
       "      <td>Hindarsfjall</td>\n",
       "    </tr>\n",
       "    <tr>\n",
       "      <th>2</th>\n",
       "      <td>2</td>\n",
       "      <td>2</td>\n",
       "      <td>41</td>\n",
       "      <td>Hindarsfjall</td>\n",
       "    </tr>\n",
       "    <tr>\n",
       "      <th>3</th>\n",
       "      <td>3</td>\n",
       "      <td>3</td>\n",
       "      <td>60</td>\n",
       "      <td>Kaer_Trolde</td>\n",
       "    </tr>\n",
       "    <tr>\n",
       "      <th>4</th>\n",
       "      <td>4</td>\n",
       "      <td>4</td>\n",
       "      <td>22</td>\n",
       "      <td>Spikeroog</td>\n",
       "    </tr>\n",
       "  </tbody>\n",
       "</table>\n",
       "</div>"
      ],
      "text/plain": [
       "   Unnamed: 0  customer_id  age      location\n",
       "0           0            0   56      Oxenfurt\n",
       "1           1            1   53  Hindarsfjall\n",
       "2           2            2   41  Hindarsfjall\n",
       "3           3            3   60   Kaer_Trolde\n",
       "4           4            4   22     Spikeroog"
      ]
     },
     "execution_count": 27,
     "metadata": {},
     "output_type": "execute_result"
    }
   ],
   "source": [
    "client_profile.head()"
   ]
  },
  {
   "cell_type": "code",
   "execution_count": 666,
   "metadata": {},
   "outputs": [
    {
     "data": {
      "text/html": [
       "<div>\n",
       "<style scoped>\n",
       "    .dataframe tbody tr th:only-of-type {\n",
       "        vertical-align: middle;\n",
       "    }\n",
       "\n",
       "    .dataframe tbody tr th {\n",
       "        vertical-align: top;\n",
       "    }\n",
       "\n",
       "    .dataframe thead th {\n",
       "        text-align: right;\n",
       "    }\n",
       "</style>\n",
       "<table border=\"1\" class=\"dataframe\">\n",
       "  <thead>\n",
       "    <tr style=\"text-align: right;\">\n",
       "      <th></th>\n",
       "      <th>Unnamed: 0</th>\n",
       "      <th>customer_id</th>\n",
       "      <th>age</th>\n",
       "    </tr>\n",
       "  </thead>\n",
       "  <tbody>\n",
       "    <tr>\n",
       "      <th>count</th>\n",
       "      <td>2.000000e+06</td>\n",
       "      <td>2.000000e+06</td>\n",
       "      <td>2.000000e+06</td>\n",
       "    </tr>\n",
       "    <tr>\n",
       "      <th>mean</th>\n",
       "      <td>9.999995e+05</td>\n",
       "      <td>9.999995e+05</td>\n",
       "      <td>4.450815e+01</td>\n",
       "    </tr>\n",
       "    <tr>\n",
       "      <th>std</th>\n",
       "      <td>5.773504e+05</td>\n",
       "      <td>5.773504e+05</td>\n",
       "      <td>1.443533e+01</td>\n",
       "    </tr>\n",
       "    <tr>\n",
       "      <th>min</th>\n",
       "      <td>0.000000e+00</td>\n",
       "      <td>0.000000e+00</td>\n",
       "      <td>2.000000e+01</td>\n",
       "    </tr>\n",
       "    <tr>\n",
       "      <th>25%</th>\n",
       "      <td>4.999998e+05</td>\n",
       "      <td>4.999998e+05</td>\n",
       "      <td>3.200000e+01</td>\n",
       "    </tr>\n",
       "    <tr>\n",
       "      <th>50%</th>\n",
       "      <td>9.999995e+05</td>\n",
       "      <td>9.999995e+05</td>\n",
       "      <td>4.500000e+01</td>\n",
       "    </tr>\n",
       "    <tr>\n",
       "      <th>75%</th>\n",
       "      <td>1.499999e+06</td>\n",
       "      <td>1.499999e+06</td>\n",
       "      <td>5.700000e+01</td>\n",
       "    </tr>\n",
       "    <tr>\n",
       "      <th>max</th>\n",
       "      <td>1.999999e+06</td>\n",
       "      <td>1.999999e+06</td>\n",
       "      <td>6.900000e+01</td>\n",
       "    </tr>\n",
       "  </tbody>\n",
       "</table>\n",
       "</div>"
      ],
      "text/plain": [
       "         Unnamed: 0   customer_id           age\n",
       "count  2.000000e+06  2.000000e+06  2.000000e+06\n",
       "mean   9.999995e+05  9.999995e+05  4.450815e+01\n",
       "std    5.773504e+05  5.773504e+05  1.443533e+01\n",
       "min    0.000000e+00  0.000000e+00  2.000000e+01\n",
       "25%    4.999998e+05  4.999998e+05  3.200000e+01\n",
       "50%    9.999995e+05  9.999995e+05  4.500000e+01\n",
       "75%    1.499999e+06  1.499999e+06  5.700000e+01\n",
       "max    1.999999e+06  1.999999e+06  6.900000e+01"
      ]
     },
     "execution_count": 666,
     "metadata": {},
     "output_type": "execute_result"
    }
   ],
   "source": [
    "client_profile.describe().compute()"
   ]
  },
  {
   "cell_type": "code",
   "execution_count": 350,
   "metadata": {},
   "outputs": [
    {
     "data": {
      "text/plain": [
       "Novigrad        300918\n",
       "Beauclair       300689\n",
       "Oxenfurt        299988\n",
       "Spikeroog       299775\n",
       "Hindarsfjall    299456\n",
       "Kaer_Trolde     299075\n",
       "Crows_perch     200099\n",
       "Name: location, dtype: int64"
      ]
     },
     "execution_count": 350,
     "metadata": {},
     "output_type": "execute_result"
    }
   ],
   "source": [
    "client_profile.location.value_counts().compute()"
   ]
  },
  {
   "cell_type": "code",
   "execution_count": 6,
   "metadata": {},
   "outputs": [],
   "source": [
    "age_min = client_profile.age.min().compute()\n",
    "age_max = client_profile.age.max().compute()\n",
    "unique_age = len(client_profile.age.unique().compute())"
   ]
  },
  {
   "cell_type": "code",
   "execution_count": null,
   "metadata": {},
   "outputs": [],
   "source": []
  },
  {
   "cell_type": "code",
   "execution_count": 7,
   "metadata": {},
   "outputs": [
    {
     "data": {
      "text/html": [
       "<div>\n",
       "<style scoped>\n",
       "    .dataframe tbody tr th:only-of-type {\n",
       "        vertical-align: middle;\n",
       "    }\n",
       "\n",
       "    .dataframe tbody tr th {\n",
       "        vertical-align: top;\n",
       "    }\n",
       "\n",
       "    .dataframe thead th {\n",
       "        text-align: right;\n",
       "    }\n",
       "</style>\n",
       "<table border=\"1\" class=\"dataframe\">\n",
       "  <thead>\n",
       "    <tr style=\"text-align: right;\">\n",
       "      <th></th>\n",
       "      <th>customer_id</th>\n",
       "      <th>date</th>\n",
       "      <th>purchase_amt</th>\n",
       "      <th>discount</th>\n",
       "      <th>purchase_sum</th>\n",
       "    </tr>\n",
       "  </thead>\n",
       "  <tbody>\n",
       "    <tr>\n",
       "      <th>26</th>\n",
       "      <td>26</td>\n",
       "      <td>0</td>\n",
       "      <td>12.125273</td>\n",
       "      <td>0</td>\n",
       "      <td>970.021866</td>\n",
       "    </tr>\n",
       "    <tr>\n",
       "      <th>53</th>\n",
       "      <td>53</td>\n",
       "      <td>0</td>\n",
       "      <td>34.357035</td>\n",
       "      <td>0</td>\n",
       "      <td>2748.562788</td>\n",
       "    </tr>\n",
       "    <tr>\n",
       "      <th>56</th>\n",
       "      <td>56</td>\n",
       "      <td>0</td>\n",
       "      <td>8.695825</td>\n",
       "      <td>0</td>\n",
       "      <td>695.666022</td>\n",
       "    </tr>\n",
       "    <tr>\n",
       "      <th>58</th>\n",
       "      <td>58</td>\n",
       "      <td>0</td>\n",
       "      <td>28.299046</td>\n",
       "      <td>0</td>\n",
       "      <td>2263.923641</td>\n",
       "    </tr>\n",
       "    <tr>\n",
       "      <th>64</th>\n",
       "      <td>64</td>\n",
       "      <td>0</td>\n",
       "      <td>32.547511</td>\n",
       "      <td>0</td>\n",
       "      <td>2603.800857</td>\n",
       "    </tr>\n",
       "  </tbody>\n",
       "</table>\n",
       "</div>"
      ],
      "text/plain": [
       "    customer_id  date  purchase_amt  discount  purchase_sum\n",
       "26           26     0     12.125273         0    970.021866\n",
       "53           53     0     34.357035         0   2748.562788\n",
       "56           56     0      8.695825         0    695.666022\n",
       "58           58     0     28.299046         0   2263.923641\n",
       "64           64     0     32.547511         0   2603.800857"
      ]
     },
     "execution_count": 7,
     "metadata": {},
     "output_type": "execute_result"
    }
   ],
   "source": [
    "receipts.head()"
   ]
  },
  {
   "cell_type": "code",
   "execution_count": 12,
   "metadata": {},
   "outputs": [
    {
     "data": {
      "text/plain": [
       "count    3.174177e+07\n",
       "mean     1.244958e+02\n",
       "std      7.213806e+01\n",
       "min      0.000000e+00\n",
       "25%      6.200000e+01\n",
       "50%      1.240000e+02\n",
       "75%      1.870000e+02\n",
       "max      2.490000e+02\n",
       "Name: date, dtype: float64"
      ]
     },
     "execution_count": 12,
     "metadata": {},
     "output_type": "execute_result"
    }
   ],
   "source": [
    "receipts.date.describe().compute()"
   ]
  },
  {
   "cell_type": "code",
   "execution_count": 23,
   "metadata": {},
   "outputs": [
    {
     "data": {
      "text/plain": [
       "customer_id     226525\n",
       "date            226525\n",
       "purchase_amt    226525\n",
       "discount        226525\n",
       "purchase_sum    226525\n",
       "dtype: int64"
      ]
     },
     "execution_count": 23,
     "metadata": {},
     "output_type": "execute_result"
    }
   ],
   "source": [
    "receipts.query(\"discount > 0\").count().compute()"
   ]
  },
  {
   "cell_type": "code",
   "execution_count": 240,
   "metadata": {},
   "outputs": [],
   "source": [
    "ref_cust = receipts.query(\"(customer_id == 4) & ((date >= 30) & (date <= 131))\")[['purchase_sum', 'purchase_amt']].compute()"
   ]
  },
  {
   "cell_type": "code",
   "execution_count": 241,
   "metadata": {},
   "outputs": [
    {
     "data": {
      "text/plain": [
       "4326.177339487327"
      ]
     },
     "execution_count": 241,
     "metadata": {},
     "output_type": "execute_result"
    }
   ],
   "source": [
    "ref_cust.purchase_sum.sum()"
   ]
  },
  {
   "cell_type": "code",
   "execution_count": 22,
   "metadata": {},
   "outputs": [
    {
     "data": {
      "text/html": [
       "<div>\n",
       "<style scoped>\n",
       "    .dataframe tbody tr th:only-of-type {\n",
       "        vertical-align: middle;\n",
       "    }\n",
       "\n",
       "    .dataframe tbody tr th {\n",
       "        vertical-align: top;\n",
       "    }\n",
       "\n",
       "    .dataframe thead th {\n",
       "        text-align: right;\n",
       "    }\n",
       "</style>\n",
       "<table border=\"1\" class=\"dataframe\">\n",
       "  <thead>\n",
       "    <tr style=\"text-align: right;\">\n",
       "      <th></th>\n",
       "      <th>customer_id</th>\n",
       "      <th>date</th>\n",
       "      <th>purchase_amt</th>\n",
       "      <th>discount</th>\n",
       "      <th>purchase_sum</th>\n",
       "    </tr>\n",
       "  </thead>\n",
       "  <tbody>\n",
       "    <tr>\n",
       "      <th>1999883</th>\n",
       "      <td>1999883</td>\n",
       "      <td>31</td>\n",
       "      <td>42.583485</td>\n",
       "      <td>0</td>\n",
       "      <td>3406.678836</td>\n",
       "    </tr>\n",
       "    <tr>\n",
       "      <th>1999883</th>\n",
       "      <td>1999883</td>\n",
       "      <td>158</td>\n",
       "      <td>35.229005</td>\n",
       "      <td>0</td>\n",
       "      <td>2818.320362</td>\n",
       "    </tr>\n",
       "    <tr>\n",
       "      <th>1999883</th>\n",
       "      <td>1999883</td>\n",
       "      <td>231</td>\n",
       "      <td>35.997293</td>\n",
       "      <td>0</td>\n",
       "      <td>2879.783445</td>\n",
       "    </tr>\n",
       "  </tbody>\n",
       "</table>\n",
       "</div>"
      ],
      "text/plain": [
       "         customer_id  date  purchase_amt  discount  purchase_sum\n",
       "1999883      1999883    31     42.583485         0   3406.678836\n",
       "1999883      1999883   158     35.229005         0   2818.320362\n",
       "1999883      1999883   231     35.997293         0   2879.783445"
      ]
     },
     "execution_count": 22,
     "metadata": {},
     "output_type": "execute_result"
    }
   ],
   "source": [
    "receipts.query(\"customer_id == 1999883\").compute()"
   ]
  },
  {
   "cell_type": "code",
   "execution_count": 19,
   "metadata": {},
   "outputs": [
    {
     "data": {
      "text/html": [
       "<div>\n",
       "<style scoped>\n",
       "    .dataframe tbody tr th:only-of-type {\n",
       "        vertical-align: middle;\n",
       "    }\n",
       "\n",
       "    .dataframe tbody tr th {\n",
       "        vertical-align: top;\n",
       "    }\n",
       "\n",
       "    .dataframe thead th {\n",
       "        text-align: right;\n",
       "    }\n",
       "</style>\n",
       "<table border=\"1\" class=\"dataframe\">\n",
       "  <thead>\n",
       "    <tr style=\"text-align: right;\">\n",
       "      <th></th>\n",
       "      <th>customer_id</th>\n",
       "      <th>date</th>\n",
       "      <th>purchase_amt</th>\n",
       "      <th>discount</th>\n",
       "      <th>purchase_sum</th>\n",
       "    </tr>\n",
       "  </thead>\n",
       "  <tbody>\n",
       "    <tr>\n",
       "      <th>count</th>\n",
       "      <td>1.676856e+07</td>\n",
       "      <td>1.676856e+07</td>\n",
       "      <td>1.676856e+07</td>\n",
       "      <td>1.676856e+07</td>\n",
       "      <td>1.676856e+07</td>\n",
       "    </tr>\n",
       "    <tr>\n",
       "      <th>mean</th>\n",
       "      <td>9.991867e+05</td>\n",
       "      <td>6.556267e+01</td>\n",
       "      <td>1.646025e+01</td>\n",
       "      <td>5.403566e-01</td>\n",
       "      <td>1.316820e+03</td>\n",
       "    </tr>\n",
       "    <tr>\n",
       "      <th>std</th>\n",
       "      <td>5.777243e+05</td>\n",
       "      <td>3.810540e+01</td>\n",
       "      <td>9.321455e+00</td>\n",
       "      <td>4.617606e+00</td>\n",
       "      <td>7.457164e+02</td>\n",
       "    </tr>\n",
       "    <tr>\n",
       "      <th>min</th>\n",
       "      <td>0.000000e+00</td>\n",
       "      <td>0.000000e+00</td>\n",
       "      <td>1.026834e+00</td>\n",
       "      <td>0.000000e+00</td>\n",
       "      <td>8.214675e+01</td>\n",
       "    </tr>\n",
       "    <tr>\n",
       "      <th>25%</th>\n",
       "      <td>4.979280e+05</td>\n",
       "      <td>3.300000e+01</td>\n",
       "      <td>9.502695e+00</td>\n",
       "      <td>0.000000e+00</td>\n",
       "      <td>7.602156e+02</td>\n",
       "    </tr>\n",
       "    <tr>\n",
       "      <th>50%</th>\n",
       "      <td>9.985160e+05</td>\n",
       "      <td>6.600000e+01</td>\n",
       "      <td>1.478685e+01</td>\n",
       "      <td>0.000000e+00</td>\n",
       "      <td>1.182948e+03</td>\n",
       "    </tr>\n",
       "    <tr>\n",
       "      <th>75%</th>\n",
       "      <td>1.499683e+06</td>\n",
       "      <td>9.900000e+01</td>\n",
       "      <td>2.197073e+01</td>\n",
       "      <td>0.000000e+00</td>\n",
       "      <td>1.757658e+03</td>\n",
       "    </tr>\n",
       "    <tr>\n",
       "      <th>max</th>\n",
       "      <td>1.999999e+06</td>\n",
       "      <td>1.310000e+02</td>\n",
       "      <td>7.512826e+01</td>\n",
       "      <td>4.000000e+01</td>\n",
       "      <td>6.010261e+03</td>\n",
       "    </tr>\n",
       "  </tbody>\n",
       "</table>\n",
       "</div>"
      ],
      "text/plain": [
       "        customer_id          date  purchase_amt      discount  purchase_sum\n",
       "count  1.676856e+07  1.676856e+07  1.676856e+07  1.676856e+07  1.676856e+07\n",
       "mean   9.991867e+05  6.556267e+01  1.646025e+01  5.403566e-01  1.316820e+03\n",
       "std    5.777243e+05  3.810540e+01  9.321455e+00  4.617606e+00  7.457164e+02\n",
       "min    0.000000e+00  0.000000e+00  1.026834e+00  0.000000e+00  8.214675e+01\n",
       "25%    4.979280e+05  3.300000e+01  9.502695e+00  0.000000e+00  7.602156e+02\n",
       "50%    9.985160e+05  6.600000e+01  1.478685e+01  0.000000e+00  1.182948e+03\n",
       "75%    1.499683e+06  9.900000e+01  2.197073e+01  0.000000e+00  1.757658e+03\n",
       "max    1.999999e+06  1.310000e+02  7.512826e+01  4.000000e+01  6.010261e+03"
      ]
     },
     "execution_count": 19,
     "metadata": {},
     "output_type": "execute_result"
    }
   ],
   "source": [
    "receipts[receipts.date < 132].describe(include='all').compute()"
   ]
  },
  {
   "cell_type": "code",
   "execution_count": null,
   "metadata": {},
   "outputs": [],
   "source": []
  },
  {
   "cell_type": "code",
   "execution_count": 9,
   "metadata": {},
   "outputs": [
    {
     "data": {
      "text/html": [
       "<div>\n",
       "<style scoped>\n",
       "    .dataframe tbody tr th:only-of-type {\n",
       "        vertical-align: middle;\n",
       "    }\n",
       "\n",
       "    .dataframe tbody tr th {\n",
       "        vertical-align: top;\n",
       "    }\n",
       "\n",
       "    .dataframe thead th {\n",
       "        text-align: right;\n",
       "    }\n",
       "</style>\n",
       "<table border=\"1\" class=\"dataframe\">\n",
       "  <thead>\n",
       "    <tr style=\"text-align: right;\">\n",
       "      <th></th>\n",
       "      <th>Unnamed: 0</th>\n",
       "      <th>customer_id</th>\n",
       "      <th>n_offer_days</th>\n",
       "      <th>date</th>\n",
       "      <th>target_group_flag</th>\n",
       "    </tr>\n",
       "  </thead>\n",
       "  <tbody>\n",
       "    <tr>\n",
       "      <th>0</th>\n",
       "      <td>0</td>\n",
       "      <td>0</td>\n",
       "      <td>7</td>\n",
       "      <td>102</td>\n",
       "      <td>1</td>\n",
       "    </tr>\n",
       "    <tr>\n",
       "      <th>1</th>\n",
       "      <td>1</td>\n",
       "      <td>1</td>\n",
       "      <td>7</td>\n",
       "      <td>102</td>\n",
       "      <td>1</td>\n",
       "    </tr>\n",
       "    <tr>\n",
       "      <th>2</th>\n",
       "      <td>2</td>\n",
       "      <td>2</td>\n",
       "      <td>7</td>\n",
       "      <td>102</td>\n",
       "      <td>1</td>\n",
       "    </tr>\n",
       "    <tr>\n",
       "      <th>3</th>\n",
       "      <td>3</td>\n",
       "      <td>3</td>\n",
       "      <td>7</td>\n",
       "      <td>102</td>\n",
       "      <td>1</td>\n",
       "    </tr>\n",
       "    <tr>\n",
       "      <th>4</th>\n",
       "      <td>4</td>\n",
       "      <td>4</td>\n",
       "      <td>7</td>\n",
       "      <td>102</td>\n",
       "      <td>1</td>\n",
       "    </tr>\n",
       "  </tbody>\n",
       "</table>\n",
       "</div>"
      ],
      "text/plain": [
       "   Unnamed: 0  customer_id  n_offer_days  date  target_group_flag\n",
       "0           0            0             7   102                  1\n",
       "1           1            1             7   102                  1\n",
       "2           2            2             7   102                  1\n",
       "3           3            3             7   102                  1\n",
       "4           4            4             7   102                  1"
      ]
     },
     "execution_count": 9,
     "metadata": {},
     "output_type": "execute_result"
    }
   ],
   "source": [
    "campaigns.head()"
   ]
  },
  {
   "cell_type": "code",
   "execution_count": 26,
   "metadata": {},
   "outputs": [
    {
     "data": {
      "text/plain": [
       "500000"
      ]
     },
     "execution_count": 26,
     "metadata": {},
     "output_type": "execute_result"
    }
   ],
   "source": [
    "campaigns.customer_id.unique().count().compute()"
   ]
  },
  {
   "cell_type": "code",
   "execution_count": 21,
   "metadata": {},
   "outputs": [
    {
     "data": {
      "text/html": [
       "<div>\n",
       "<style scoped>\n",
       "    .dataframe tbody tr th:only-of-type {\n",
       "        vertical-align: middle;\n",
       "    }\n",
       "\n",
       "    .dataframe tbody tr th {\n",
       "        vertical-align: top;\n",
       "    }\n",
       "\n",
       "    .dataframe thead th {\n",
       "        text-align: right;\n",
       "    }\n",
       "</style>\n",
       "<table border=\"1\" class=\"dataframe\">\n",
       "  <thead>\n",
       "    <tr style=\"text-align: right;\">\n",
       "      <th></th>\n",
       "      <th>Unnamed: 0</th>\n",
       "      <th>customer_id</th>\n",
       "      <th>n_offer_days</th>\n",
       "      <th>date</th>\n",
       "      <th>target_group_flag</th>\n",
       "    </tr>\n",
       "  </thead>\n",
       "  <tbody>\n",
       "    <tr>\n",
       "      <th>108</th>\n",
       "      <td>108</td>\n",
       "      <td>108</td>\n",
       "      <td>7</td>\n",
       "      <td>102</td>\n",
       "      <td>1</td>\n",
       "    </tr>\n",
       "  </tbody>\n",
       "</table>\n",
       "</div>"
      ],
      "text/plain": [
       "     Unnamed: 0  customer_id  n_offer_days  date  target_group_flag\n",
       "108         108          108             7   102                  1"
      ]
     },
     "execution_count": 21,
     "metadata": {},
     "output_type": "execute_result"
    }
   ],
   "source": [
    "campaigns.query(\"customer_id  == 108\").compute()"
   ]
  },
  {
   "cell_type": "code",
   "execution_count": null,
   "metadata": {},
   "outputs": [],
   "source": []
  },
  {
   "cell_type": "markdown",
   "metadata": {},
   "source": [
    "## ETL"
   ]
  },
  {
   "cell_type": "code",
   "execution_count": 30,
   "metadata": {},
   "outputs": [],
   "source": [
    "BINS = 10\n",
    "PRICE = 80.\n",
    "MARKUP = 52.\n",
    "MARKRATIO = 0.35\n",
    "DISCOUNT = 40.\n",
    "COMMUNICATION_COST = 1.\n",
    "\n",
    "age_min = client_profile.age.min().compute()\n",
    "age_max = client_profile.age.max().compute()\n",
    "unique_age = len(client_profile.age.unique().compute())"
   ]
  },
  {
   "cell_type": "code",
   "execution_count": 32,
   "metadata": {},
   "outputs": [],
   "source": [
    "data_config = {\n",
    "    'extract': [        \n",
    "        {\n",
    "            'name': 'receipts_basic',\n",
    "            'args': {'delta': 70, 'date_to': 102}\n",
    "        },         \n",
    "        {\n",
    "            'name': 'receipts_basic',\n",
    "            'args': {'delta': 65, 'date_to': 102}\n",
    "        },        \n",
    "        {\n",
    "            'name': 'receipts_basic',\n",
    "            'args': {'delta': 60, 'date_to': 102}\n",
    "        },\n",
    "        {\n",
    "            'name': 'receipts_basic',\n",
    "            'args': {'delta': 55, 'date_to': 102}\n",
    "        },        \n",
    "        {\n",
    "            'name': 'receipts_basic',\n",
    "            'args': {'delta': 50, 'date_to': 102}\n",
    "        },\n",
    "        {\n",
    "            'name': 'receipts_basic',\n",
    "            'args': {'delta': 45, 'date_to': 102}\n",
    "        },        \n",
    "        {\n",
    "            'name': 'receipts_basic',\n",
    "            'args': {'delta': 40, 'date_to': 102}\n",
    "        },\n",
    "        {\n",
    "            'name': 'receipts_basic',\n",
    "            'args': {'delta': 35, 'date_to': 102}\n",
    "        },  \n",
    "        {\n",
    "            'name': 'receipts_basic',\n",
    "            'args': {'delta': 31, 'date_to': 102}\n",
    "        },        \n",
    "        {\n",
    "            'name': 'receipts_basic',\n",
    "            'args': {'delta': 25, 'date_to': 102}\n",
    "        },        \n",
    "        {\n",
    "            'name': 'receipts_basic',\n",
    "            'args': {'delta': 20, 'date_to': 102}\n",
    "        },\n",
    "        {\n",
    "            'name': 'receipts_basic',\n",
    "            'args': {'delta': 15, 'date_to': 102}\n",
    "        },\n",
    "        {\n",
    "            'name': 'receipts_basic',\n",
    "            'args': {'delta': 10, 'date_to': 102}\n",
    "        },        \n",
    "        {\n",
    "            'name': 'receipts_basic',\n",
    "            'args': {'delta': 7, 'date_to': 102}\n",
    "        },\n",
    "        {\n",
    "            'name': 'receipts_basic',\n",
    "            'args': {'delta': 5, 'date_to': 102}\n",
    "        },          \n",
    "        {\n",
    "            'name': 'receipts_basic',\n",
    "            'args': {'delta': 2, 'date_to': 102}\n",
    "        },        \n",
    "        {\n",
    "            'name': 'receipts_basic',\n",
    "            'args': {'delta': 30, 'date_to': 132}\n",
    "        },        \n",
    "        {\n",
    "            'name': 'age_gender',\n",
    "            'args': {}\n",
    "        },\n",
    "        {\n",
    "            'name': 'target_from_campaigns',\n",
    "            'args': {'date_to': 102}\n",
    "        }\n",
    "    ],\n",
    "    'transform': [\n",
    "        {\n",
    "            'name': 'expression',\n",
    "            'args': {\n",
    "                'expression': f\"{{d}}['purchase_sum_w_disc_sum__30d'].fillna(0) - {{d}}['purchase_amt_sum__30d'].fillna(0) * {MARKUP} - {{d}}['target_group_flag'].fillna(0) * {COMMUNICATION_COST}\",\n",
    "                'col_result': 'target_profit'\n",
    "            }\n",
    "        },\n",
    "#         {\n",
    "#             'name': 'expression',\n",
    "#             'args': {\n",
    "#                 'expression': f\"{{d}}['purchase_sum_sum__102d'].fillna(0) * {MARKRATIO} - {{d}}['discount_flag_sum__102d'].fillna(0) * {DISCOUNT} - {{d}}['target_group_flag'].fillna(0) * {COMMUNICATION_COST}\",\n",
    "#                 'col_result': 'target_profit_2'\n",
    "#             }\n",
    "#         },        \n",
    "#         {\n",
    "#             'name': 'expression',\n",
    "#             'args': {\n",
    "#                 'expression': \"{d}['purchase_sum_sum__50d'] / {d}['date_count__50d']\",\n",
    "#                 'col_result': 'purchase_sum_per_day__50d'\n",
    "#             }\n",
    "#         },\n",
    "#         {\n",
    "#             'name': 'expression',\n",
    "#             'args': {\n",
    "#                 'expression': \"{d}['purchase_sum_sum__60d'] / {d}['date_count__60d']\",\n",
    "#                 'col_result': 'purchase_sum_per_day__60d'\n",
    "#             }\n",
    "#         }, \n",
    "        {\n",
    "            'name': 'binning',\n",
    "            'args': {\n",
    "                'col_value': 'age',\n",
    "                'col_result': 'age_bin',\n",
    "                'bins': np.linspace(age_min, age_max, BINS).tolist(),\n",
    "                'labels': range(0, min(unique_age, BINS)+1)\n",
    "            }\n",
    "        },        \n",
    "        {\n",
    "            'name': 'one_hot_encode',\n",
    "            'args': {\n",
    "                'cols': ['location']\n",
    "            }\n",
    "        }\n",
    "    ]\n",
    "}\n"
   ]
  },
  {
   "cell_type": "code",
   "execution_count": null,
   "metadata": {},
   "outputs": [],
   "source": []
  },
  {
   "cell_type": "markdown",
   "metadata": {},
   "source": [
    "## Extraction"
   ]
  },
  {
   "cell_type": "code",
   "execution_count": 33,
   "metadata": {},
   "outputs": [],
   "source": [
    "raw_data = fcompute.extract_features(engine, config=data_config['extract'])"
   ]
  },
  {
   "cell_type": "code",
   "execution_count": 34,
   "metadata": {},
   "outputs": [],
   "source": [
    "raw_data = raw_data.compute()"
   ]
  },
  {
   "cell_type": "code",
   "execution_count": null,
   "metadata": {},
   "outputs": [],
   "source": []
  },
  {
   "cell_type": "code",
   "execution_count": 125,
   "metadata": {},
   "outputs": [
    {
     "data": {
      "text/html": [
       "<div>\n",
       "<style scoped>\n",
       "    .dataframe tbody tr th:only-of-type {\n",
       "        vertical-align: middle;\n",
       "    }\n",
       "\n",
       "    .dataframe tbody tr th {\n",
       "        vertical-align: top;\n",
       "    }\n",
       "\n",
       "    .dataframe thead th {\n",
       "        text-align: right;\n",
       "    }\n",
       "</style>\n",
       "<table border=\"1\" class=\"dataframe\">\n",
       "  <thead>\n",
       "    <tr style=\"text-align: right;\">\n",
       "      <th></th>\n",
       "      <th>missing</th>\n",
       "      <th>total</th>\n",
       "      <th>percent</th>\n",
       "    </tr>\n",
       "  </thead>\n",
       "  <tbody>\n",
       "    <tr>\n",
       "      <th>purchase_sum_w_disc_sum__30d</th>\n",
       "      <td>367799</td>\n",
       "      <td>2000000</td>\n",
       "      <td>18.38995</td>\n",
       "    </tr>\n",
       "    <tr>\n",
       "      <th>purchase_amt_sum__30d</th>\n",
       "      <td>367799</td>\n",
       "      <td>2000000</td>\n",
       "      <td>18.38995</td>\n",
       "    </tr>\n",
       "  </tbody>\n",
       "</table>\n",
       "</div>"
      ],
      "text/plain": [
       "                              missing    total   percent\n",
       "purchase_sum_w_disc_sum__30d   367799  2000000  18.38995\n",
       "purchase_amt_sum__30d          367799  2000000  18.38995"
      ]
     },
     "execution_count": 125,
     "metadata": {},
     "output_type": "execute_result"
    }
   ],
   "source": [
    "raw_data[['purchase_sum_w_disc_sum__30d', 'purchase_amt_sum__30d']].stb.missing()"
   ]
  },
  {
   "cell_type": "code",
   "execution_count": 126,
   "metadata": {},
   "outputs": [
    {
     "data": {
      "text/html": [
       "<div>\n",
       "<style scoped>\n",
       "    .dataframe tbody tr th:only-of-type {\n",
       "        vertical-align: middle;\n",
       "    }\n",
       "\n",
       "    .dataframe tbody tr th {\n",
       "        vertical-align: top;\n",
       "    }\n",
       "\n",
       "    .dataframe thead th {\n",
       "        text-align: right;\n",
       "    }\n",
       "</style>\n",
       "<table border=\"1\" class=\"dataframe\">\n",
       "  <thead>\n",
       "    <tr style=\"text-align: right;\">\n",
       "      <th></th>\n",
       "      <th>customer_id</th>\n",
       "      <th>purchase_sum_w_disc_sum__30d</th>\n",
       "    </tr>\n",
       "  </thead>\n",
       "  <tbody>\n",
       "    <tr>\n",
       "      <th>9</th>\n",
       "      <td>9</td>\n",
       "      <td>NaN</td>\n",
       "    </tr>\n",
       "    <tr>\n",
       "      <th>12</th>\n",
       "      <td>13</td>\n",
       "      <td>NaN</td>\n",
       "    </tr>\n",
       "    <tr>\n",
       "      <th>14</th>\n",
       "      <td>15</td>\n",
       "      <td>NaN</td>\n",
       "    </tr>\n",
       "    <tr>\n",
       "      <th>16</th>\n",
       "      <td>17</td>\n",
       "      <td>NaN</td>\n",
       "    </tr>\n",
       "    <tr>\n",
       "      <th>20</th>\n",
       "      <td>21</td>\n",
       "      <td>NaN</td>\n",
       "    </tr>\n",
       "    <tr>\n",
       "      <th>...</th>\n",
       "      <td>...</td>\n",
       "      <td>...</td>\n",
       "    </tr>\n",
       "    <tr>\n",
       "      <th>1999995</th>\n",
       "      <td>1999814</td>\n",
       "      <td>NaN</td>\n",
       "    </tr>\n",
       "    <tr>\n",
       "      <th>1999996</th>\n",
       "      <td>1999882</td>\n",
       "      <td>NaN</td>\n",
       "    </tr>\n",
       "    <tr>\n",
       "      <th>1999997</th>\n",
       "      <td>1999902</td>\n",
       "      <td>NaN</td>\n",
       "    </tr>\n",
       "    <tr>\n",
       "      <th>1999998</th>\n",
       "      <td>1999909</td>\n",
       "      <td>NaN</td>\n",
       "    </tr>\n",
       "    <tr>\n",
       "      <th>1999999</th>\n",
       "      <td>1999943</td>\n",
       "      <td>NaN</td>\n",
       "    </tr>\n",
       "  </tbody>\n",
       "</table>\n",
       "<p>367799 rows × 2 columns</p>\n",
       "</div>"
      ],
      "text/plain": [
       "         customer_id  purchase_sum_w_disc_sum__30d\n",
       "9                  9                           NaN\n",
       "12                13                           NaN\n",
       "14                15                           NaN\n",
       "16                17                           NaN\n",
       "20                21                           NaN\n",
       "...              ...                           ...\n",
       "1999995      1999814                           NaN\n",
       "1999996      1999882                           NaN\n",
       "1999997      1999902                           NaN\n",
       "1999998      1999909                           NaN\n",
       "1999999      1999943                           NaN\n",
       "\n",
       "[367799 rows x 2 columns]"
      ]
     },
     "execution_count": 126,
     "metadata": {},
     "output_type": "execute_result"
    }
   ],
   "source": [
    "raw_data.loc[raw_data.purchase_sum_w_disc_sum__30d.isnull(),['customer_id', 'purchase_sum_w_disc_sum__30d']]"
   ]
  },
  {
   "cell_type": "code",
   "execution_count": null,
   "metadata": {},
   "outputs": [],
   "source": []
  },
  {
   "cell_type": "code",
   "execution_count": null,
   "metadata": {},
   "outputs": [],
   "source": [
    "raw_data.query(\"customer_id  == 108\")[['purchase_amt_sum__30d', \n",
    "                                       'purchase_sum_sum__30d', \n",
    "                                       'discount_flag_sum__30d', \n",
    "                                       'target_group_flag']]"
   ]
  },
  {
   "cell_type": "markdown",
   "metadata": {},
   "source": [
    "## Transform"
   ]
  },
  {
   "cell_type": "code",
   "execution_count": 35,
   "metadata": {},
   "outputs": [],
   "source": [
    "transform_pipeline = fcompute.create_pipeline(data_config['transform'])"
   ]
  },
  {
   "cell_type": "code",
   "execution_count": 36,
   "metadata": {},
   "outputs": [],
   "source": [
    "data = transform_pipeline.fit_transform(raw_data.copy())"
   ]
  },
  {
   "cell_type": "code",
   "execution_count": null,
   "metadata": {},
   "outputs": [],
   "source": []
  },
  {
   "cell_type": "code",
   "execution_count": 129,
   "metadata": {},
   "outputs": [
    {
     "data": {
      "text/plain": [
       "['ohe__location__Crows_perch',\n",
       " 'ohe__location__Oxenfurt',\n",
       " 'ohe__location__Novigrad',\n",
       " 'ohe__location__Kaer_Trolde',\n",
       " 'ohe__location__Hindarsfjall',\n",
       " 'customer_id',\n",
       " 'ohe__location__Beauclair',\n",
       " 'age_bin',\n",
       " 'target_profit',\n",
       " 'location',\n",
       " 'age',\n",
       " 'ohe__location__Spikeroog']"
      ]
     },
     "execution_count": 129,
     "metadata": {},
     "output_type": "execute_result"
    }
   ],
   "source": [
    "miss_data = data.stb.missing()\n",
    "whole_filled_cols = miss_data[miss_data.missing == 0].index.values.tolist()\n",
    "\n",
    "whole_filled_cols"
   ]
  },
  {
   "cell_type": "markdown",
   "metadata": {},
   "source": [
    "## FillNa"
   ]
  },
  {
   "cell_type": "code",
   "execution_count": 37,
   "metadata": {},
   "outputs": [],
   "source": [
    "data = data.fillna(value={'target_group_flag': 0})"
   ]
  },
  {
   "cell_type": "code",
   "execution_count": 38,
   "metadata": {},
   "outputs": [],
   "source": [
    "for col in data.columns:\n",
    "    if (col.startswith(\"purchase_\") or \n",
    "        col.startswith(\"discount_\") or \n",
    "        col.startswith(\"date_count_\") or\n",
    "        col.startswith(\"mean_time_interval_\") or\n",
    "        col.startswith(\"time_since_last_\")\n",
    "       ):\n",
    "        data = data.fillna(value={col: 0}) "
   ]
  },
  {
   "cell_type": "code",
   "execution_count": null,
   "metadata": {},
   "outputs": [],
   "source": []
  },
  {
   "cell_type": "markdown",
   "metadata": {},
   "source": [
    "## Target DistPlot"
   ]
  },
  {
   "cell_type": "code",
   "execution_count": 132,
   "metadata": {},
   "outputs": [],
   "source": [
    "target = data[['target_profit']]"
   ]
  },
  {
   "cell_type": "code",
   "execution_count": 133,
   "metadata": {},
   "outputs": [
    {
     "data": {
      "image/png": "[encoded data removed]",
      "text/plain": [
       "<Figure size 540x360 with 1 Axes>"
      ]
     },
     "metadata": {},
     "output_type": "display_data"
    }
   ],
   "source": [
    "sns.set(color_codes=True)\n",
    "sns.set(style=\"white\", palette=\"muted\")\n",
    "\n",
    "#palette=sns.color_palette('bright')[:5]\n",
    "\n",
    "for col in target.columns:\n",
    "    sns.displot(target[col], legend=True,\n",
    "                kind='kde', fill=True, \n",
    "                height=5, aspect=1.5)"
   ]
  },
  {
   "cell_type": "code",
   "execution_count": null,
   "metadata": {},
   "outputs": [],
   "source": []
  },
  {
   "cell_type": "code",
   "execution_count": 152,
   "metadata": {},
   "outputs": [
    {
     "name": "stderr",
     "output_type": "stream",
     "text": [
      "`distplot` is a deprecated function and will be removed in a future version. Please adapt your code to use either `displot` (a figure-level function with similar flexibility) or `kdeplot` (an axes-level function for kernel density plots).\n"
     ]
    },
    {
     "data": {
      "image/png": "[encoded data removed]",
      "text/plain": [
       "<Figure size 864x576 with 1 Axes>"
      ]
     },
     "metadata": {},
     "output_type": "display_data"
    }
   ],
   "source": [
    "plt.rcParams[\"figure.figsize\"] = [12, 8]\n",
    "f, (ax1) = plt.subplots(1,1)\n",
    "\n",
    "for col in target.columns:\n",
    "    x = target[col]\n",
    "    sns.distplot(x,\n",
    "                 bins = 'auto',\n",
    "                 norm_hist = True,\n",
    "                 hist = False,\n",
    "                 kde = True,\n",
    "                 rug = False,\n",
    "                 ax = ax1,\n",
    "                 label = col\n",
    "                )\n",
    "    ax1.legend()\n",
    "    ax1.set_ylim(top=0.002)\n",
    "#     ax1.relim()\n",
    "    ax1.autoscale_view()\n",
    "plt.show()"
   ]
  },
  {
   "cell_type": "code",
   "execution_count": null,
   "metadata": {},
   "outputs": [],
   "source": [
    "sns.pairplot(target)"
   ]
  },
  {
   "cell_type": "code",
   "execution_count": null,
   "metadata": {},
   "outputs": [],
   "source": []
  },
  {
   "cell_type": "markdown",
   "metadata": {},
   "source": [
    "## Splits"
   ]
  },
  {
   "cell_type": "code",
   "execution_count": 447,
   "metadata": {},
   "outputs": [],
   "source": [
    "# treat_gr_size = data.loc[data.target_group_flag==1, :].shape[0]"
   ]
  },
  {
   "cell_type": "code",
   "execution_count": 448,
   "metadata": {},
   "outputs": [],
   "source": [
    "# treat = data.loc[data.target_group_flag==1, :].reset_index(drop=True)\n",
    "# control = data.loc[data.target_group_flag==0, :].sample(n=treat_gr_size).reset_index(drop=True)"
   ]
  },
  {
   "cell_type": "code",
   "execution_count": 39,
   "metadata": {},
   "outputs": [],
   "source": [
    "_data = data #pd.concat((treat, control), axis=0).reset_index(drop=True)"
   ]
  },
  {
   "cell_type": "code",
   "execution_count": null,
   "metadata": {},
   "outputs": [],
   "source": []
  },
  {
   "cell_type": "code",
   "execution_count": 40,
   "metadata": {},
   "outputs": [],
   "source": [
    "fit_index, val_index = train_test_split(_data.index, test_size=0.5, random_state=165)"
   ]
  },
  {
   "cell_type": "code",
   "execution_count": null,
   "metadata": {},
   "outputs": [],
   "source": []
  },
  {
   "cell_type": "markdown",
   "metadata": {},
   "source": [
    "## Model"
   ]
  },
  {
   "cell_type": "code",
   "execution_count": 41,
   "metadata": {},
   "outputs": [],
   "source": [
    "selected_cols = \\\n",
    "[   \n",
    "#  'ohe__location__Beauclair',\n",
    "#  'ohe__location__Crows_perch',\n",
    "#  'ohe__location__Hindarsfjall',\n",
    "#  'ohe__location__Kaer_Trolde',\n",
    "#  'ohe__location__Novigrad',\n",
    "#  'ohe__location__Oxenfurt',\n",
    "#  'ohe__location__Spikeroog', \n",
    "#  'purchase_amt_sum__2d',\n",
    "#  'purchase_amt_mean__2d',     \n",
    "#  'purchase_amt_max__2d',    \n",
    "#  'purchase_amt_min__2d',\n",
    "#  'purchase_amt_sum__5d', \n",
    "#  'purchase_amt_mean__5d',     \n",
    "#  'purchase_amt_max__5d',    \n",
    "#  'purchase_amt_min__5d',\n",
    " 'purchase_amt_sum__7d',\n",
    "#  'purchase_amt_mean__7d',     \n",
    "#  'purchase_amt_max__7d',    \n",
    "#  'purchase_amt_min__7d',\n",
    "#  'purchase_amt_sum__10d',\n",
    " 'purchase_amt_mean__10d',    \n",
    " 'purchase_amt_max__10d',    \n",
    "#  'purchase_amt_min__10d',\n",
    " 'purchase_amt_sum__15d',\n",
    " 'purchase_amt_mean__15d',    \n",
    "#  'purchase_amt_max__15d',\n",
    " 'purchase_amt_min__15d',\n",
    " 'purchase_amt_sum__20d',\n",
    " 'purchase_amt_mean__20d',    \n",
    " 'purchase_amt_max__20d',\n",
    " 'purchase_amt_min__20d',\n",
    " 'purchase_amt_sum__25d',\n",
    " 'purchase_amt_mean__25d',    \n",
    "#  'purchase_amt_max__25d',\n",
    " 'purchase_amt_min__25d',\n",
    " 'purchase_amt_sum__31d',\n",
    " 'purchase_amt_mean__31d',    \n",
    " 'purchase_amt_max__31d',\n",
    "#  'purchase_amt_min__31d',    \n",
    "#  'purchase_amt_sum__35d',\n",
    " 'purchase_amt_mean__35d',    \n",
    "#  'purchase_amt_max__35d',\n",
    "#  'purchase_amt_min__35d',\n",
    " 'purchase_amt_sum__40d',\n",
    " 'purchase_amt_mean__40d',    \n",
    " 'purchase_amt_max__40d',\n",
    " 'purchase_amt_min__40d',\n",
    "#  'purchase_amt_sum__45d',\n",
    "#  'purchase_amt_mean__45d',    \n",
    "#  'purchase_amt_max__45d',\n",
    "#  'purchase_amt_min__45d',    \n",
    " 'purchase_amt_sum__50d',\n",
    " 'purchase_amt_mean__50d',    \n",
    "#  'purchase_amt_max__50d',\n",
    " 'purchase_amt_min__50d',\n",
    "#  'purchase_amt_sum__55d',\n",
    "#  'purchase_amt_mean__55d',    \n",
    "#  'purchase_amt_max__55d',\n",
    "#  'purchase_amt_min__55d',    \n",
    " 'purchase_amt_sum__60d',\n",
    " 'purchase_amt_mean__60d',     \n",
    " 'purchase_amt_max__60d',\n",
    "#  'purchase_amt_min__60d',\n",
    " 'purchase_amt_sum__65d',\n",
    " 'purchase_amt_mean__65d',     \n",
    " 'purchase_amt_max__65d',\n",
    "#  'purchase_amt_min__65d',\n",
    " 'purchase_amt_sum__70d',\n",
    " 'purchase_amt_mean__70d',     \n",
    " 'purchase_amt_max__70d',\n",
    " 'purchase_amt_min__70d',    \n",
    "#  'purchase_amt_sum__75d',\n",
    "#  'purchase_amt_mean__75d',     \n",
    "#  'purchase_amt_max__75d',\n",
    "#  'purchase_amt_min__75d',    \n",
    "#  'purchase_sum_sum__2d',    \n",
    "#  'purchase_sum_max__2d',    \n",
    "#  'purchase_sum_min__2d',\n",
    "#  'purchase_sum_sum__5d',    \n",
    "#  'purchase_sum_max__5d',    \n",
    "#  'purchase_sum_min__5d',\n",
    "#  'purchase_sum_sum__7d',    \n",
    "#  'purchase_sum_max__7d',    \n",
    "#  'purchase_sum_min__7d',\n",
    "#  'purchase_sum_sum__10d',    \n",
    "#  'purchase_sum_max__10d',    \n",
    "#  'purchase_sum_min__10d',\n",
    "#  'purchase_sum_sum__15d',\n",
    "#  'purchase_sum_max__15d',\n",
    "#  'purchase_sum_min__15d',\n",
    "#  'purchase_sum_sum__20d',\n",
    "#  'purchase_sum_max__20d',\n",
    "#  'purchase_sum_min__20d',\n",
    "#  'purchase_sum_sum__25d',\n",
    "#  'purchase_sum_max__25d',\n",
    "#  'purchase_sum_min__25d',\n",
    "#  'purchase_sum_sum__35d',\n",
    "#  'purchase_sum_max__35d',\n",
    "#  'purchase_sum_min__35d',\n",
    "#  'purchase_sum_sum__40d',\n",
    "#  'purchase_sum_max__40d',\n",
    "#  'purchase_sum_min__40d',\n",
    "#  'purchase_sum_sum__50d',    \n",
    "#  'purchase_sum_max__50d',\n",
    "#  'purchase_sum_min__50d',\n",
    "#  'purchase_sum_sum__60d',    \n",
    "#  'purchase_sum_max__60d',\n",
    "#  'purchase_sum_min__60d',\n",
    "#  'date_count__7d',\n",
    "#  'date_count__35d',\n",
    "#  'date_count__60d', \n",
    "#  'mean_time_interval__2d', \n",
    "#  'mean_time_interval__5d',    \n",
    "#  'mean_time_interval__7d',\n",
    "#  'mean_time_interval__10d',\n",
    "#  'mean_time_interval__15d',\n",
    " 'mean_time_interval__20d',    \n",
    "#  'mean_time_interval__25d',\n",
    "#  'mean_time_interval__31d',    \n",
    " 'mean_time_interval__35d',\n",
    " 'mean_time_interval__40d',\n",
    " 'mean_time_interval__45d',    \n",
    "#  'mean_time_interval__50d',\n",
    "#  'mean_time_interval__55d',    \n",
    "#  'mean_time_interval__60d', \n",
    "#  'mean_time_interval__65d',\n",
    "#  'mean_time_interval__70d',\n",
    "#  'mean_time_interval__75d',    \n",
    "#  'time_since_last__2d', \n",
    "#  'time_since_last__5d',    \n",
    "#  'time_since_last__7d', \n",
    "#  'time_since_last__10d', \n",
    "#  'time_since_last__15d',\n",
    "#  'time_since_last__20d',    \n",
    "#  'time_since_last__25d',     \n",
    "#   'time_since_last__35d',\n",
    "#  'time_since_last__40d',    \n",
    "#  'time_since_last__50d',\n",
    "#  'time_since_last__55d',    \n",
    "#  'time_since_last__60d', \n",
    "#  'time_since_last__65d',    \n",
    "#  'time_since_last__70d',\n",
    "#  'time_since_last__75d', \n",
    "#  'purchase_sum_per_day__5d', \n",
    "#  'purchase_sum_per_day__15d', \n",
    "#  'purchase_sum_per_day__25d', \n",
    "#  'purchase_sum_per_day__35d', \n",
    "#  'purchase_sum_per_day__50d', \n",
    "#  'purchase_sum_per_day__60d', \n",
    "#  'age_bin' \n",
    "]"
   ]
  },
  {
   "cell_type": "code",
   "execution_count": 42,
   "metadata": {},
   "outputs": [],
   "source": [
    "col_target = 'target_profit'\n",
    "col_treatment = 'target_group_flag'\n",
    "cols_features = selected_cols"
   ]
  },
  {
   "cell_type": "code",
   "execution_count": 43,
   "metadata": {},
   "outputs": [],
   "source": [
    "model_n1 = rlearner.BaseRRegressor(\n",
    "    learner=lgb.LGBMRegressor(),\n",
    "    control_name=0,\n",
    "    n_fold=4,\n",
    "    random_state=165\n",
    ")"
   ]
  },
  {
   "cell_type": "code",
   "execution_count": 44,
   "metadata": {},
   "outputs": [
    {
     "data": {
      "text/plain": [
       "0.250246"
      ]
     },
     "execution_count": 44,
     "metadata": {},
     "output_type": "execute_result"
    }
   ],
   "source": [
    "_p_score_const = _data.loc[fit_index, col_treatment].value_counts(normalize=True).loc[1]\n",
    "_p_score_const"
   ]
  },
  {
   "cell_type": "code",
   "execution_count": 45,
   "metadata": {},
   "outputs": [],
   "source": [
    "_p_scores = pd.Series(data=_p_score_const, index=fit_index)\n",
    "\n",
    "model_n1.fit(\n",
    "    X=_data.loc[fit_index, cols_features].values,\n",
    "    treatment=_data.loc[fit_index, col_treatment].values,\n",
    "    y=_data.loc[fit_index, col_target].values,\n",
    "    p=_p_scores\n",
    ")"
   ]
  },
  {
   "cell_type": "markdown",
   "metadata": {},
   "source": [
    "# FEATURE IMPOT"
   ]
  },
  {
   "cell_type": "code",
   "execution_count": 28,
   "metadata": {},
   "outputs": [
    {
     "data": {
      "image/png": "[encoded data removed]",
      "text/plain": [
       "<Figure size 864x576 with 1 Axes>"
      ]
     },
     "metadata": {
      "needs_background": "light"
     },
     "output_type": "display_data"
    }
   ],
   "source": [
    "plt.rcParams[\"figure.figsize\"] = [12, 18]\n",
    "model_n1.plot_importance(X=_data.loc[fit_index, cols_features], \n",
    "                         tau=_data.loc[fit_index, col_treatment], \n",
    "                         method='permutation',\n",
    "                         features = cols_features)"
   ]
  },
  {
   "cell_type": "markdown",
   "metadata": {},
   "source": [
    "## evaluate model"
   ]
  },
  {
   "cell_type": "code",
   "execution_count": 46,
   "metadata": {},
   "outputs": [],
   "source": [
    "_eval_data = _data.loc[val_index, cols_features + [col_treatment, col_target]]\n",
    "_eval_data['score'] = model_n1.predict(_eval_data[cols_features])\n",
    "_eval_data = _eval_data[['score', col_treatment, col_target]]"
   ]
  },
  {
   "cell_type": "code",
   "execution_count": 406,
   "metadata": {},
   "outputs": [
    {
     "data": {
      "text/plain": [
       "(-35.914389975328376, 30.476414034324215)"
      ]
     },
     "execution_count": 406,
     "metadata": {},
     "output_type": "execute_result"
    }
   ],
   "source": [
    "np.percentile(_eval_data['score'], 5), np.percentile(_eval_data['score'], 95)"
   ]
  },
  {
   "cell_type": "code",
   "execution_count": 436,
   "metadata": {},
   "outputs": [
    {
     "data": {
      "image/png": "[encoded data removed]",
      "text/plain": [
       "<Figure size 792x504 with 1 Axes>"
      ]
     },
     "metadata": {},
     "output_type": "display_data"
    }
   ],
   "source": [
    "plt.figure(figsize=(11, 7))\n",
    "plt.hist(_eval_data['score'], range=(-50, 50.), bins=100)\n",
    "plt.show()"
   ]
  },
  {
   "cell_type": "code",
   "execution_count": null,
   "metadata": {},
   "outputs": [],
   "source": []
  },
  {
   "cell_type": "markdown",
   "metadata": {},
   "source": [
    "## GAIN Target_1"
   ]
  },
  {
   "cell_type": "markdown",
   "metadata": {},
   "source": [
    "### Don't Include 30-th day starting from 102 "
   ]
  },
  {
   "cell_type": "code",
   "execution_count": null,
   "metadata": {},
   "outputs": [],
   "source": []
  },
  {
   "cell_type": "code",
   "execution_count": 47,
   "metadata": {},
   "outputs": [
    {
     "data": {
      "text/plain": [
       "count    1000000.000000\n",
       "mean          -3.395178\n",
       "std           33.244351\n",
       "min         -840.602332\n",
       "25%          -16.548044\n",
       "50%           -2.515475\n",
       "75%           10.873659\n",
       "max         1024.462978\n",
       "Name: score, dtype: float64"
      ]
     },
     "execution_count": 47,
     "metadata": {},
     "output_type": "execute_result"
    }
   ],
   "source": [
    "_eval_data['score'].describe()"
   ]
  },
  {
   "cell_type": "code",
   "execution_count": 48,
   "metadata": {},
   "outputs": [
    {
     "data": {
      "image/png": "[encoded data removed]",
      "text/plain": [
       "<Figure size 576x576 with 1 Axes>"
      ]
     },
     "metadata": {
      "needs_background": "light"
     },
     "output_type": "display_data"
    }
   ],
   "source": [
    "cmetrics.plot_gain(\n",
    "    _eval_data,\n",
    "    treatment_col=col_treatment,\n",
    "    outcome_col=col_target,\n",
    ")"
   ]
  },
  {
   "cell_type": "code",
   "execution_count": 49,
   "metadata": {},
   "outputs": [
    {
     "data": {
      "text/plain": [
       "score     2.251742\n",
       "Random    0.000000\n",
       "dtype: float64"
      ]
     },
     "execution_count": 49,
     "metadata": {},
     "output_type": "execute_result"
    }
   ],
   "source": [
    "cmetrics.qini_score(\n",
    "    _eval_data,\n",
    "    treatment_col=col_treatment,\n",
    "    outcome_col=col_target,\n",
    ")"
   ]
  },
  {
   "cell_type": "code",
   "execution_count": null,
   "metadata": {},
   "outputs": [],
   "source": []
  },
  {
   "cell_type": "markdown",
   "metadata": {},
   "source": [
    "### Include 30-th day starting from 102 "
   ]
  },
  {
   "cell_type": "code",
   "execution_count": 24,
   "metadata": {},
   "outputs": [
    {
     "data": {
      "text/plain": [
       "count    1000000.000000\n",
       "mean          -2.452549\n",
       "std           31.820855\n",
       "min         -711.954425\n",
       "25%          -13.270398\n",
       "50%           -2.623869\n",
       "75%            8.704677\n",
       "max          950.264825\n",
       "Name: score, dtype: float64"
      ]
     },
     "execution_count": 24,
     "metadata": {},
     "output_type": "execute_result"
    }
   ],
   "source": [
    "_eval_data['score'].describe()"
   ]
  },
  {
   "cell_type": "code",
   "execution_count": 29,
   "metadata": {},
   "outputs": [
    {
     "data": {
      "image/png": "[encoded data removed]",
      "text/plain": [
       "<Figure size 576x576 with 1 Axes>"
      ]
     },
     "metadata": {
      "needs_background": "light"
     },
     "output_type": "display_data"
    }
   ],
   "source": [
    "cmetrics.plot_gain(\n",
    "    _eval_data,\n",
    "    treatment_col=col_treatment,\n",
    "    outcome_col=col_target,\n",
    ")"
   ]
  },
  {
   "cell_type": "code",
   "execution_count": 26,
   "metadata": {},
   "outputs": [
    {
     "data": {
      "text/plain": [
       "score     1.455418\n",
       "Random    0.000000\n",
       "dtype: float64"
      ]
     },
     "execution_count": 26,
     "metadata": {},
     "output_type": "execute_result"
    }
   ],
   "source": [
    "cmetrics.qini_score(\n",
    "    _eval_data,\n",
    "    treatment_col=col_treatment,\n",
    "    outcome_col=col_target,\n",
    ")"
   ]
  },
  {
   "cell_type": "markdown",
   "metadata": {},
   "source": [
    "## GAIN Target_2"
   ]
  },
  {
   "cell_type": "code",
   "execution_count": 441,
   "metadata": {},
   "outputs": [
    {
     "data": {
      "text/plain": [
       "count    1000000.000000\n",
       "mean          -1.595916\n",
       "std           34.724932\n",
       "min        -1013.703612\n",
       "25%          -15.206372\n",
       "50%           -2.470441\n",
       "75%           14.338375\n",
       "max          933.633009\n",
       "Name: score, dtype: float64"
      ]
     },
     "execution_count": 441,
     "metadata": {},
     "output_type": "execute_result"
    }
   ],
   "source": [
    "_eval_data['score'].describe()"
   ]
  },
  {
   "cell_type": "code",
   "execution_count": 442,
   "metadata": {},
   "outputs": [
    {
     "data": {
      "image/png": "[encoded data removed]",
      "text/plain": [
       "<Figure size 576x576 with 1 Axes>"
      ]
     },
     "metadata": {},
     "output_type": "display_data"
    }
   ],
   "source": [
    "cmetrics.plot_gain(\n",
    "    _eval_data,\n",
    "    treatment_col=col_treatment,\n",
    "    outcome_col=col_target,\n",
    ")"
   ]
  },
  {
   "cell_type": "code",
   "execution_count": 443,
   "metadata": {},
   "outputs": [
    {
     "data": {
      "text/plain": [
       "score     0.804686\n",
       "Random    0.000000\n",
       "dtype: float64"
      ]
     },
     "execution_count": 443,
     "metadata": {},
     "output_type": "execute_result"
    }
   ],
   "source": [
    "cmetrics.qini_score(\n",
    "    _eval_data,\n",
    "    treatment_col=col_treatment,\n",
    "    outcome_col=col_target,\n",
    ")"
   ]
  },
  {
   "cell_type": "code",
   "execution_count": null,
   "metadata": {},
   "outputs": [],
   "source": []
  },
  {
   "cell_type": "markdown",
   "metadata": {},
   "source": [
    "## OOT: Predict"
   ]
  },
  {
   "cell_type": "code",
   "execution_count": null,
   "metadata": {},
   "outputs": [],
   "source": []
  },
  {
   "cell_type": "code",
   "execution_count": 57,
   "metadata": {},
   "outputs": [],
   "source": [
    "data_config = {\n",
    "    'extract': [\n",
    "        {\n",
    "            'name': 'receipts_basic',\n",
    "            'args': {'delta': 75, 'date_to': 250}\n",
    "        },        \n",
    "        {\n",
    "            'name': 'receipts_basic',\n",
    "            'args': {'delta': 70, 'date_to': 250}\n",
    "        },        \n",
    "        {\n",
    "            'name': 'receipts_basic',\n",
    "            'args': {'delta': 65, 'date_to': 250}\n",
    "        },        \n",
    "        {\n",
    "            'name': 'receipts_basic',\n",
    "            'args': {'delta': 60, 'date_to': 250}\n",
    "        },\n",
    "        {\n",
    "            'name': 'receipts_basic',\n",
    "            'args': {'delta': 55, 'date_to': 250}\n",
    "        },         \n",
    "        {\n",
    "            'name': 'receipts_basic',\n",
    "            'args': {'delta': 50, 'date_to': 250}\n",
    "        }, \n",
    "        {\n",
    "            'name': 'receipts_basic',\n",
    "            'args': {'delta': 45, 'date_to': 250}\n",
    "        },        \n",
    "        {\n",
    "            'name': 'receipts_basic',\n",
    "            'args': {'delta': 40, 'date_to': 250}\n",
    "        },         \n",
    "        {\n",
    "            'name': 'receipts_basic',\n",
    "            'args': {'delta': 35, 'date_to': 250}\n",
    "        },\n",
    "        {\n",
    "            'name': 'receipts_basic',\n",
    "            'args': {'delta': 31, 'date_to': 250}\n",
    "        },        \n",
    "        {\n",
    "            'name': 'receipts_basic',\n",
    "            'args': {'delta': 25, 'date_to': 250}\n",
    "        }, \n",
    "        {\n",
    "            'name': 'receipts_basic',\n",
    "            'args': {'delta': 20, 'date_to': 250}\n",
    "        },         \n",
    "        {\n",
    "            'name': 'receipts_basic',\n",
    "            'args': {'delta': 15, 'date_to': 250}\n",
    "        },\n",
    "        {\n",
    "            'name': 'receipts_basic',\n",
    "            'args': {'delta': 10, 'date_to': 250}\n",
    "        },\n",
    "        {\n",
    "            'name': 'receipts_basic',\n",
    "            'args': {'delta': 7, 'date_to': 250}\n",
    "        },\n",
    "        {\n",
    "            'name': 'receipts_basic',\n",
    "            'args': {'delta': 5, 'date_to': 250}\n",
    "        },        \n",
    "        {\n",
    "            'name': 'receipts_basic',\n",
    "            'args': {'delta': 2, 'date_to': 250} \n",
    "        },    \n",
    "        {\n",
    "            'name': 'age_gender',\n",
    "            'args': {}\n",
    "        }\n",
    "    ],\n",
    "    'transform': [\n",
    "        {\n",
    "            'name': 'one_hot_encode',\n",
    "            'args': {\n",
    "                'cols': ['location']\n",
    "            }\n",
    "        },\n",
    "        {\n",
    "            'name': 'binning',\n",
    "            'args': {\n",
    "                'col_value': 'age',\n",
    "                'col_result': 'age_bin',\n",
    "                'bins': np.linspace(age_min, age_max, BINS).tolist(),\n",
    "                'labels': range(0, min(unique_age, BINS)+1)\n",
    "            }\n",
    "        },          \n",
    "    ]\n",
    "}\n"
   ]
  },
  {
   "cell_type": "code",
   "execution_count": 58,
   "metadata": {},
   "outputs": [],
   "source": [
    "_raw_data = fcompute.extract_features(engine, config=data_config['extract'])"
   ]
  },
  {
   "cell_type": "code",
   "execution_count": 59,
   "metadata": {},
   "outputs": [],
   "source": [
    "_raw_data = raw_data_.compute()"
   ]
  },
  {
   "cell_type": "code",
   "execution_count": null,
   "metadata": {},
   "outputs": [],
   "source": []
  },
  {
   "cell_type": "markdown",
   "metadata": {},
   "source": [
    "## FillNa"
   ]
  },
  {
   "cell_type": "code",
   "execution_count": 60,
   "metadata": {},
   "outputs": [],
   "source": [
    "for col in raw_data_.columns:\n",
    "    if (col.startswith(\"purchase_\") or \n",
    "        col.startswith(\"discount_\") or \n",
    "        col.startswith(\"date_count_\") or\n",
    "        col.startswith(\"mean_time_interval_\") or\n",
    "        col.startswith(\"time_since_last_\")\n",
    "       ):\n",
    "        _raw_data = _raw_data.fillna(value={col:0}) "
   ]
  },
  {
   "cell_type": "markdown",
   "metadata": {},
   "source": [
    "## OOT Transform"
   ]
  },
  {
   "cell_type": "code",
   "execution_count": 61,
   "metadata": {},
   "outputs": [],
   "source": [
    "transform_pipeline = fcompute.create_pipeline(data_config['transform'])"
   ]
  },
  {
   "cell_type": "code",
   "execution_count": 62,
   "metadata": {},
   "outputs": [],
   "source": [
    "oot_data = transform_pipeline.fit_transform(_raw_data.copy())"
   ]
  },
  {
   "cell_type": "markdown",
   "metadata": {},
   "source": [
    "## OOT EVAL"
   ]
  },
  {
   "cell_type": "code",
   "execution_count": 440,
   "metadata": {},
   "outputs": [],
   "source": [
    "_eval_data = oot_data.loc[:, cols_features + ['customer_id']]\n",
    "_eval_data['score'] = model_n1.predict(_eval_data[cols_features])"
   ]
  },
  {
   "cell_type": "code",
   "execution_count": 441,
   "metadata": {},
   "outputs": [
    {
     "data": {
      "text/plain": [
       "count    2.000000e+06\n",
       "mean    -2.698447e+00\n",
       "std      3.499903e+01\n",
       "min     -8.108486e+02\n",
       "25%     -1.548640e+01\n",
       "50%     -1.221625e+00\n",
       "75%      9.443374e+00\n",
       "max      1.061654e+03\n",
       "Name: score, dtype: float64"
      ]
     },
     "execution_count": 441,
     "metadata": {},
     "output_type": "execute_result"
    }
   ],
   "source": [
    "_eval_data['score'].describe()"
   ]
  },
  {
   "cell_type": "code",
   "execution_count": null,
   "metadata": {},
   "outputs": [],
   "source": []
  },
  {
   "cell_type": "code",
   "execution_count": 442,
   "metadata": {},
   "outputs": [
    {
     "data": {
      "image/png": "[encoded data removed]",
      "text/plain": [
       "<Figure size 792x504 with 1 Axes>"
      ]
     },
     "metadata": {},
     "output_type": "display_data"
    }
   ],
   "source": [
    "plt.figure(figsize=(11, 7))\n",
    "plt.hist(_eval_data['score'], range=(-40, 40.), bins=100)\n",
    "plt.show()"
   ]
  },
  {
   "cell_type": "code",
   "execution_count": null,
   "metadata": {},
   "outputs": [],
   "source": []
  },
  {
   "cell_type": "markdown",
   "metadata": {},
   "source": [
    "### Cut-Off"
   ]
  },
  {
   "cell_type": "code",
   "execution_count": 478,
   "metadata": {},
   "outputs": [
    {
     "data": {
      "text/plain": [
       "1.3009398157238228"
      ]
     },
     "execution_count": 478,
     "metadata": {},
     "output_type": "execute_result"
    }
   ],
   "source": [
    "cutoff = np.percentile(_eval_data['score'], 55)\n",
    "cutoff"
   ]
  },
  {
   "cell_type": "code",
   "execution_count": 479,
   "metadata": {},
   "outputs": [],
   "source": [
    "_eval_data['make_offer'] = (_eval_data['score'] >= cutoff).astype(int)"
   ]
  },
  {
   "cell_type": "code",
   "execution_count": 480,
   "metadata": {},
   "outputs": [
    {
     "data": {
      "text/html": [
       "<div>\n",
       "<style scoped>\n",
       "    .dataframe tbody tr th:only-of-type {\n",
       "        vertical-align: middle;\n",
       "    }\n",
       "\n",
       "    .dataframe tbody tr th {\n",
       "        vertical-align: top;\n",
       "    }\n",
       "\n",
       "    .dataframe thead th {\n",
       "        text-align: right;\n",
       "    }\n",
       "</style>\n",
       "<table border=\"1\" class=\"dataframe\">\n",
       "  <thead>\n",
       "    <tr style=\"text-align: right;\">\n",
       "      <th></th>\n",
       "      <th>customer_id</th>\n",
       "      <th>score</th>\n",
       "      <th>make_offer</th>\n",
       "    </tr>\n",
       "  </thead>\n",
       "  <tbody>\n",
       "    <tr>\n",
       "      <th>0</th>\n",
       "      <td>0</td>\n",
       "      <td>-19.334973</td>\n",
       "      <td>0</td>\n",
       "    </tr>\n",
       "    <tr>\n",
       "      <th>1</th>\n",
       "      <td>1</td>\n",
       "      <td>1.673144</td>\n",
       "      <td>1</td>\n",
       "    </tr>\n",
       "    <tr>\n",
       "      <th>2</th>\n",
       "      <td>2</td>\n",
       "      <td>75.147428</td>\n",
       "      <td>1</td>\n",
       "    </tr>\n",
       "    <tr>\n",
       "      <th>3</th>\n",
       "      <td>3</td>\n",
       "      <td>44.070406</td>\n",
       "      <td>1</td>\n",
       "    </tr>\n",
       "    <tr>\n",
       "      <th>4</th>\n",
       "      <td>4</td>\n",
       "      <td>10.676950</td>\n",
       "      <td>1</td>\n",
       "    </tr>\n",
       "  </tbody>\n",
       "</table>\n",
       "</div>"
      ],
      "text/plain": [
       "   customer_id      score  make_offer\n",
       "0            0 -19.334973           0\n",
       "1            1   1.673144           1\n",
       "2            2  75.147428           1\n",
       "3            3  44.070406           1\n",
       "4            4  10.676950           1"
      ]
     },
     "execution_count": 480,
     "metadata": {},
     "output_type": "execute_result"
    }
   ],
   "source": [
    "_eval_data[['customer_id', 'score', 'make_offer']].head()"
   ]
  },
  {
   "cell_type": "code",
   "execution_count": 481,
   "metadata": {},
   "outputs": [
    {
     "data": {
      "text/plain": [
       "0    1100000\n",
       "1     900000\n",
       "Name: make_offer, dtype: int64"
      ]
     },
     "execution_count": 481,
     "metadata": {},
     "output_type": "execute_result"
    }
   ],
   "source": [
    "_eval_data.make_offer.value_counts()"
   ]
  },
  {
   "cell_type": "code",
   "execution_count": null,
   "metadata": {},
   "outputs": [],
   "source": []
  },
  {
   "cell_type": "code",
   "execution_count": 482,
   "metadata": {},
   "outputs": [],
   "source": [
    "## If file exists, delete it ##\n",
    "csvf ='./csv/make_offer.csv'\n",
    "if os.path.isfile(csvf):\n",
    "    os.remove(csvf)\n",
    "else:    ## Show an error ##\n",
    "    print(\"Error: %s file not found\" % csvf)"
   ]
  },
  {
   "cell_type": "code",
   "execution_count": 483,
   "metadata": {},
   "outputs": [],
   "source": [
    "_eval_data.query(\"make_offer > 0\")[['customer_id']].to_csv('./csv/make_offer.csv', index=False)"
   ]
  },
  {
   "cell_type": "code",
   "execution_count": null,
   "metadata": {},
   "outputs": [],
   "source": []
  },
  {
   "cell_type": "code",
   "execution_count": null,
   "metadata": {},
   "outputs": [],
   "source": []
  }
 ],
 "metadata": {
  "kernelspec": {
   "display_name": "Python3.7 (lms_env)",
   "language": "python",
   "name": "condaenv"
  },
  "language_info": {
   "codemirror_mode": {
    "name": "ipython",
    "version": 3
   },
   "file_extension": ".py",
   "mimetype": "text/x-python",
   "name": "python",
   "nbconvert_exporter": "python",
   "pygments_lexer": "ipython3",
   "version": "3.7.10"
  }
 },
 "nbformat": 4,
 "nbformat_minor": 4
}
